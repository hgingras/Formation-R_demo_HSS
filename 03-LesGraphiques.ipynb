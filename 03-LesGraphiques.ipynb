{
 "cells": [
  {
   "cell_type": "markdown",
   "id": "40d53ea3-34f4-4572-a701-3f4627add635",
   "metadata": {},
   "source": [
    "# **Les graphiques**\n",
    "## Objectifs\n",
    "- Comment utiliser le package `ggplot2`.\n",
    "- Comment faire un `geom_point()`.\n",
    "- Comment faire un `geom_jitter()`.\n",
    "- Comment faire un `geom_count()`.\n",
    "- Comment faire un `geom_boxplot()`."
   ]
  },
  {
   "cell_type": "markdown",
   "id": "512999ea-2700-4fff-bd7f-bd02f7daf3e2",
   "metadata": {},
   "source": [
    "---\n",
    "## Le package `ggplot2`"
   ]
  },
  {
   "cell_type": "markdown",
   "id": "8963d70a-09b5-41d8-93ee-58322de2180d",
   "metadata": {},
   "source": [
    "Le package ggplot2 permet de simplifier les étapes pour faire des graphiques complexes avec des données sous forme de *data frame*.\n",
    "\n",
    "---"
   ]
  },
  {
   "cell_type": "markdown",
   "id": "b6bdc0af-0508-415c-96f9-cc292036e38c",
   "metadata": {},
   "source": [
    "On importe nos données."
   ]
  },
  {
   "cell_type": "code",
   "execution_count": null,
   "id": "7f282099-b110-4679-b2ed-7d45d22111ad",
   "metadata": {},
   "outputs": [],
   "source": [
    "dat = read.csv(file = 'data/SAFI_clean.csv', header = TRUE, stringsAsFactors = FALSE)"
   ]
  },
  {
   "cell_type": "code",
   "execution_count": null,
   "id": "2a6fdffa-8be0-40e8-9100-6e274a32b8b4",
   "metadata": {},
   "outputs": [],
   "source": [
    "head(dat)"
   ]
  },
  {
   "cell_type": "markdown",
   "id": "5f921f70-267b-4b5c-af69-c16a00cfaecb",
   "metadata": {},
   "source": [
    "On importe la librairie de cette façon:"
   ]
  },
  {
   "cell_type": "code",
   "execution_count": null,
   "id": "05c841c1-52d1-419a-85c4-50adf79a28f9",
   "metadata": {},
   "outputs": [],
   "source": [
    "library(ggplot2)"
   ]
  },
  {
   "cell_type": "code",
   "execution_count": null,
   "id": "0ee1ec23-d5f3-43ff-a8a2-5159a96da8c6",
   "metadata": {},
   "outputs": [],
   "source": [
    "help(ggplot2)"
   ]
  },
  {
   "cell_type": "code",
   "execution_count": null,
   "id": "e96e4c35-7101-4700-949d-726cd7dba012",
   "metadata": {},
   "outputs": [],
   "source": [
    "ggplot(data = dat, aes(x = no_membrs, y = years_liv)) + geom_point()"
   ]
  },
  {
   "cell_type": "markdown",
   "id": "eb49832b-21fb-4150-af9d-13dcd59522b7",
   "metadata": {},
   "source": [
    "On ajoute l'option `alpha = 0.5` pour visualiser les points superposés."
   ]
  },
  {
   "cell_type": "code",
   "execution_count": null,
   "id": "ddb0cce2-b1fa-4e30-a5a4-3301c773bfc7",
   "metadata": {},
   "outputs": [],
   "source": [
    "ggplot(data = dat, aes(x = no_membrs, y = years_liv)) + geom_point(alpha = 0.5)"
   ]
  },
  {
   "cell_type": "markdown",
   "id": "c2233f5c-38d0-41ec-9886-a0e750cdc60b",
   "metadata": {},
   "source": [
    "On utilise `geom_jitter()` pour distancier les points superposés pour améliorer la visualisation des données.\n",
    "\n",
    "On ajoute aussi `color = village` pour visualiser selon le village."
   ]
  },
  {
   "cell_type": "code",
   "execution_count": null,
   "id": "010bd7f9-5609-40da-8624-b227bdda7055",
   "metadata": {},
   "outputs": [],
   "source": [
    "ggplot(data = dat, aes(x = no_membrs, y = years_liv)) +  geom_jitter(aes(color = village),alpha = 0.5,width = 0.2, height = 0.2)"
   ]
  },
  {
   "cell_type": "markdown",
   "id": "43aec2b9-edff-4131-aaef-44071fee444a",
   "metadata": {},
   "source": [
    "Avec `geom_count()`, on peut visualiser le nombre d'instances d'un évènement."
   ]
  },
  {
   "cell_type": "code",
   "execution_count": null,
   "id": "c4804670-3428-4ae8-8a5f-4a2372f38d91",
   "metadata": {},
   "outputs": [],
   "source": [
    "ggplot(data = dat, aes(x = no_membrs, y = years_liv, color = village)) + geom_count()"
   ]
  },
  {
   "cell_type": "markdown",
   "id": "c4d51ba8-f27f-487e-8f25-c525735d55e6",
   "metadata": {},
   "source": [
    "Voici un exemple avec `geom_boxplot()`."
   ]
  },
  {
   "cell_type": "code",
   "execution_count": null,
   "id": "be04e374-feb2-4dad-8dba-1dbc26b71d20",
   "metadata": {},
   "outputs": [],
   "source": [
    "ggplot(data = dat, aes(x = respondent_wall_type, y = rooms)) + geom_boxplot()"
   ]
  },
  {
   "cell_type": "markdown",
   "id": "b50e9367-4088-4de7-a2ed-757b8aed056b",
   "metadata": {},
   "source": [
    "On peut superposer un `geom_boxplot()` et un `geom_jitter()` pour aider à visualiser l'étendue des données."
   ]
  },
  {
   "cell_type": "code",
   "execution_count": null,
   "id": "7eed002a-679f-4470-bb23-3400d49d2cc7",
   "metadata": {},
   "outputs": [],
   "source": [
    "ggplot(data = dat, aes(x = respondent_wall_type, y = rooms)) + geom_boxplot(alpha = 0) + geom_jitter(alpha = 0.3,color = \"tomato\",width = 0.2,height = 0.2)"
   ]
  },
  {
   "cell_type": "code",
   "execution_count": null,
   "id": "92dc54eb-1588-4c62-a0c9-3f951b6d1662",
   "metadata": {},
   "outputs": [],
   "source": []
  }
 ],
 "metadata": {
  "kernelspec": {
   "display_name": "R",
   "language": "R",
   "name": "ir"
  },
  "language_info": {
   "codemirror_mode": "r",
   "file_extension": ".r",
   "mimetype": "text/x-r-source",
   "name": "R",
   "pygments_lexer": "r",
   "version": "4.2.3"
  }
 },
 "nbformat": 4,
 "nbformat_minor": 5
}
