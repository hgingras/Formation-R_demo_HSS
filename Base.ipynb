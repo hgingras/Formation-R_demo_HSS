{
 "cells": [
  {
   "cell_type": "markdown",
   "id": "483ce75c-8993-4df6-a062-56878a0392fb",
   "metadata": {},
   "source": [
    "# **Bases du langage R**\n",
    "## Objectifs\n",
    "- Expression en ligne de commande.\n",
    "- Affectation d'une valeur à une variable.\n",
    "- Convention pour les noms d'objets.\n",
    "- Types de données.\n",
    "- Structure de données.\n",
    "\n",
    "---"
   ]
  },
  {
   "cell_type": "markdown",
   "id": "394a7a2c-25de-415b-8171-30ee9f16acac",
   "metadata": {},
   "source": [
    "Toute commande R est soit une **expression**, soit une **affectation**.\n",
    "\n",
    "**Une expression:**\n",
    "\n",
    "Normalement, une expression est immédiatement évaluée et le résultat est affiché à l’écran."
   ]
  },
  {
   "cell_type": "code",
   "execution_count": 2,
   "id": "45f5bd0e-a010-41af-96bf-e3883dd374ab",
   "metadata": {},
   "outputs": [
    {
     "data": {
      "text/html": [
       "5"
      ],
      "text/latex": [
       "5"
      ],
      "text/markdown": [
       "5"
      ],
      "text/plain": [
       "[1] 5"
      ]
     },
     "metadata": {},
     "output_type": "display_data"
    }
   ],
   "source": [
    "2 + 3"
   ]
  },
  {
   "cell_type": "markdown",
   "id": "083cd9b9-382e-427b-9175-1dc4455a29b1",
   "metadata": {},
   "source": [
    "---\n",
    "\n",
    "**Une affectation:**\n",
    "Deux signes sont acceptés en R pour affecter une valeur à une variable : `=` et `<-`\n",
    "\n",
    "\n",
    "Lors d’une affectation, une expression est évaluée, le résultat est stocké dans un objet (variable) `a = 5` et rien n’est affiché à l’écran. \n",
    "\n",
    "Pour afficher ce que contient la variable à l'écran on a simplement à écrire le nom de la variable avec la fonction `print()`."
   ]
  },
  {
   "cell_type": "code",
   "execution_count": 3,
   "id": "a0d1bd65-8a33-43e3-8a4b-c9d9a2ac0321",
   "metadata": {},
   "outputs": [],
   "source": [
    "a = 2 + 3"
   ]
  },
  {
   "cell_type": "code",
   "execution_count": 4,
   "id": "3871897e-d479-4125-8c07-c3b741a4b9b8",
   "metadata": {},
   "outputs": [
    {
     "name": "stdout",
     "output_type": "stream",
     "text": [
      "[1] 5\n"
     ]
    }
   ],
   "source": [
    "print(a)"
   ]
  },
  {
   "cell_type": "markdown",
   "id": "211ee291-0f16-4d91-be85-32dffc9f455b",
   "metadata": {},
   "source": [
    "---\n",
    "## **Conventions pour les noms d’objets (variables).**\n",
    "\n",
    "- On commence par une **lettre minuscule**.\n",
    "- On sépare les mots d'une variable avec un `_`.\n",
    "- On utilise seulement des lettres minuscules, le `_` et des chiffes.\n",
    "- Les noms d’objets ne peuvent commencer par un chiffre. \n",
    "- S’ils commencent par un point, le second caractère ne peut être un chiffre.\n",
    "\n",
    "Le R est sensible à la casse, ce qui signifie que `foo`, `Foo` et `FOO` sont trois objets distincts.\n",
    "\n",
    "\n",
    "Certains noms et mots sont utilisés par le système R, mais aussi vaut-il mieux éviter de les utiliser.\n",
    "\n",
    "\n",
    " `c`, `q`, `t`, `C`, `D`, `I`, `diff`, `length`, `mean`, `pi`, `range`, `var`, `break`, `else`, `for`, `function`, `if`, `in`, `next`, `repeat`, `return`, `while`, `TRUE`, `FALSE`, `Inf`, `NA`, `NaN`, `NULL`, `NA_integer_`, `NA_real_`, `NA_complex_`, `NA_character_`, `...`, `..1`, `..2`, etc."
   ]
  },
  {
   "cell_type": "code",
   "execution_count": null,
   "id": "17657346-5d68-48a9-bf77-c9077d343f17",
   "metadata": {},
   "outputs": [],
   "source": [
    "weight0 = 0  # valid\n",
    "0weight = 1  # invalid"
   ]
  },
  {
   "cell_type": "markdown",
   "id": "f2b05490-4636-4b50-8310-b46f135c442f",
   "metadata": {},
   "source": [
    "---\n",
    "## **Les types de données.**\n",
    "Tout dans le langage R est un objet.\n",
    "R a 6 types de base. (Le type raw ne sera pas couvert ici.)\n",
    "- *character*: \"a\", 'swc'\n",
    "- *numeric*: 2, 15.5\n",
    "- *integer*: 2L (Le L indique à R de sauvegarder à titre de nombre entier (*integer*))\n",
    "- *logical*: TRUE, FALSE (booléen)\n",
    "- *complex*: 1+4i "
   ]
  },
  {
   "cell_type": "code",
   "execution_count": null,
   "id": "3d4521b6-e2e3-4f99-889d-355e151eece9",
   "metadata": {},
   "outputs": [],
   "source": [
    "x = 'dataset'"
   ]
  },
  {
   "cell_type": "code",
   "execution_count": null,
   "id": "daede783-1c01-4684-99e6-9e61634e7248",
   "metadata": {},
   "outputs": [],
   "source": [
    "y = 2L"
   ]
  },
  {
   "cell_type": "code",
   "execution_count": null,
   "id": "7b249b14-8052-450e-838e-3cae5f954d21",
   "metadata": {},
   "outputs": [],
   "source": [
    "z = TRUE"
   ]
  },
  {
   "cell_type": "markdown",
   "id": "50d0c62a-14a0-4442-a002-ed7408a07e23",
   "metadata": {},
   "source": [
    "---\n",
    "## **Le R a plusieurs structures de données.**\n",
    "\n",
    "- *atomic vector* (vecteur)\n",
    "- *list* (vecteur)\n",
    "- *matrix*\n",
    "- *data frame*\n",
    "- *factors* (pour les valeurs catégorielles (masculin, féminin),(type sanguin))"
   ]
  },
  {
   "cell_type": "markdown",
   "id": "e33bbae0-69c9-4956-b2a7-77fdd636e66c",
   "metadata": {},
   "source": [
    "---\n",
    "## **Deux types de vecteurs**\n",
    "- Vecteurs atomiques (*character*, *logical*, *integer* ou *numeric*).\n",
    "- Listes"
   ]
  },
  {
   "cell_type": "markdown",
   "id": "cdab3562-a62d-4429-8457-476289e0780a",
   "metadata": {},
   "source": [
    "---\n",
    "## **Les vecteurs atomiques**\n",
    "On peut créer un vecteur en spécifiant directement son contenu.\n",
    "\n",
    "On utilise la fonction c() pour \"*combine*\" ou combiner."
   ]
  },
  {
   "cell_type": "code",
   "execution_count": 5,
   "id": "f78e7577-9fd7-46da-89ef-197e8d62741e",
   "metadata": {},
   "outputs": [],
   "source": [
    "nombres1 = c(0, 1, 2, 3)"
   ]
  },
  {
   "cell_type": "code",
   "execution_count": 6,
   "id": "f05afbcd-e1ec-4dd8-9717-7afa06554317",
   "metadata": {},
   "outputs": [
    {
     "name": "stdout",
     "output_type": "stream",
     "text": [
      "[1] 0 1 2 3\n"
     ]
    }
   ],
   "source": [
    "print(nombres1)"
   ]
  },
  {
   "cell_type": "markdown",
   "id": "55f62a72-7137-4422-932f-6faad57682ab",
   "metadata": {},
   "source": [
    "On peut créer un vecteur avec des séquences de nombres:"
   ]
  },
  {
   "cell_type": "code",
   "execution_count": 7,
   "id": "9e375d31-9df8-463a-8948-2ab06bf03f60",
   "metadata": {},
   "outputs": [
    {
     "name": "stdout",
     "output_type": "stream",
     "text": [
      " [1]  1  2  3  4  5  6  7  8  9 10\n"
     ]
    }
   ],
   "source": [
    "print(seq(10))"
   ]
  },
  {
   "cell_type": "code",
   "execution_count": 8,
   "id": "dfeb4367-2f5c-45b9-801c-1cf1c353ea7e",
   "metadata": {},
   "outputs": [
    {
     "name": "stdout",
     "output_type": "stream",
     "text": [
      " [1]  1.0  1.1  1.2  1.3  1.4  1.5  1.6  1.7  1.8  1.9  2.0  2.1  2.2  2.3  2.4\n",
      "[16]  2.5  2.6  2.7  2.8  2.9  3.0  3.1  3.2  3.3  3.4  3.5  3.6  3.7  3.8  3.9\n",
      "[31]  4.0  4.1  4.2  4.3  4.4  4.5  4.6  4.7  4.8  4.9  5.0  5.1  5.2  5.3  5.4\n",
      "[46]  5.5  5.6  5.7  5.8  5.9  6.0  6.1  6.2  6.3  6.4  6.5  6.6  6.7  6.8  6.9\n",
      "[61]  7.0  7.1  7.2  7.3  7.4  7.5  7.6  7.7  7.8  7.9  8.0  8.1  8.2  8.3  8.4\n",
      "[76]  8.5  8.6  8.7  8.8  8.9  9.0  9.1  9.2  9.3  9.4  9.5  9.6  9.7  9.8  9.9\n",
      "[91] 10.0\n"
     ]
    }
   ],
   "source": [
    "print(seq(1, 10, by = 0.1))"
   ]
  },
  {
   "cell_type": "markdown",
   "id": "d1af2c15-8e04-4cdd-81ba-74f93cfb1cb1",
   "metadata": {},
   "source": [
    "## Le R possède plusieurs fonctions pour examiner les caractéristiques des vecteurs ou autres objets. \n",
    "\n",
    "- `class()` - quel est le type de l'objet ?\n",
    "- `typeof()` - quel type de donnée ?\n",
    "- `length()` - quelle est la longueur?\n",
    "- `attributes()` - retourne la liste des attributs, NULL si aucun."
   ]
  },
  {
   "cell_type": "code",
   "execution_count": 9,
   "id": "d69a4cbd-316d-49fe-ac29-126243785f23",
   "metadata": {},
   "outputs": [
    {
     "data": {
      "text/html": [
       "'double'"
      ],
      "text/latex": [
       "'double'"
      ],
      "text/markdown": [
       "'double'"
      ],
      "text/plain": [
       "[1] \"double\""
      ]
     },
     "metadata": {},
     "output_type": "display_data"
    }
   ],
   "source": [
    "typeof(nombres1)"
   ]
  },
  {
   "cell_type": "code",
   "execution_count": 11,
   "id": "47737ab8-01c2-4f43-bf2d-3393784c02ac",
   "metadata": {},
   "outputs": [
    {
     "data": {
      "text/html": [
       "4"
      ],
      "text/latex": [
       "4"
      ],
      "text/markdown": [
       "4"
      ],
      "text/plain": [
       "[1] 4"
      ]
     },
     "metadata": {},
     "output_type": "display_data"
    }
   ],
   "source": [
    "length(nombres1)"
   ]
  },
  {
   "cell_type": "markdown",
   "id": "fb2a06f5-1c1f-4cde-baff-f49522801ce8",
   "metadata": {},
   "source": [
    "---\n",
    "## **Les listes**\n",
    "Contrairement aux vecteurs atomiques, les listes ne sont pas restreintes à un seul mode."
   ]
  },
  {
   "cell_type": "code",
   "execution_count": 14,
   "id": "a2f45cd8-6ee3-4ab7-b9a9-f98b5c5bd066",
   "metadata": {},
   "outputs": [],
   "source": [
    "liste1 = list(1, \"a\", TRUE, 1+4i)"
   ]
  },
  {
   "cell_type": "code",
   "execution_count": 15,
   "id": "1df23384-dea8-420c-b52f-ec1632caeb7c",
   "metadata": {},
   "outputs": [
    {
     "name": "stdout",
     "output_type": "stream",
     "text": [
      "[[1]]\n",
      "[1] 1\n",
      "\n",
      "[[2]]\n",
      "[1] \"a\"\n",
      "\n",
      "[[3]]\n",
      "[1] TRUE\n",
      "\n",
      "[[4]]\n",
      "[1] 1+4i\n",
      "\n"
     ]
    }
   ],
   "source": [
    "print(liste1)"
   ]
  },
  {
   "cell_type": "markdown",
   "id": "20ee86b8-9431-466b-b279-e59005876714",
   "metadata": {},
   "source": [
    "Je peux accéder à un élément par un index:"
   ]
  },
  {
   "cell_type": "code",
   "execution_count": 16,
   "id": "477049a0-8931-4cc3-9a9c-3dd13f3ccb39",
   "metadata": {},
   "outputs": [
    {
     "name": "stdout",
     "output_type": "stream",
     "text": [
      "[[1]]\n",
      "[1] 1\n",
      "\n",
      "[[2]]\n",
      "[1] \"a\"\n",
      "\n"
     ]
    }
   ],
   "source": [
    "print(liste1[c(1,2)])"
   ]
  },
  {
   "cell_type": "markdown",
   "id": "4b5cada1-32f1-4a72-8c43-54939f7de8a5",
   "metadata": {},
   "source": [
    "---\n",
    "## **La matrice**\n",
    "Le R étant un langage spécialisé pour les calculs mathématiques, il supporte tout naturellement et de manière intuitive les matrices et, plus généralement, les tableaux à plusieurs dimensions.\n",
    "\n",
    "\n",
    "C'est simplement un vecteur atomic avec dimensions (rangées et colonnes).\n",
    "\n",
    "\n",
    "Les éléments doivent être de même type.\n",
    "\n",
    "\n",
    "Les matrices et tableaux ne sont rien d’autre que des vecteurs dotés d’un attribut *dim*. \n",
    "\n",
    "\n",
    "Ces objets sont donc stockés, et peuvent être manipulés, exactement comme des vecteurs simples."
   ]
  },
  {
   "cell_type": "code",
   "execution_count": 22,
   "id": "5c22c8b3-d1f3-47a5-88c8-7f81f380ad7e",
   "metadata": {},
   "outputs": [],
   "source": [
    "matrix1 = matrix(c(1:4),2,2) # une dimention avec un intervalle 1 à 4 sur 2 rangées et 2 colonnes."
   ]
  },
  {
   "cell_type": "code",
   "execution_count": 23,
   "id": "b4a5369e-787d-46f6-8e44-954a0a50dc96",
   "metadata": {},
   "outputs": [
    {
     "name": "stdout",
     "output_type": "stream",
     "text": [
      "[1] \"matrix\" \"array\" \n"
     ]
    }
   ],
   "source": [
    "print(class(matrix1))"
   ]
  },
  {
   "cell_type": "code",
   "execution_count": 24,
   "id": "ac9435b5-d413-4ecc-b04a-9ab33837800a",
   "metadata": {},
   "outputs": [
    {
     "name": "stdout",
     "output_type": "stream",
     "text": [
      "     [,1] [,2]\n",
      "[1,]    1    3\n",
      "[2,]    2    4\n"
     ]
    }
   ],
   "source": [
    "print(matrix1)"
   ]
  },
  {
   "cell_type": "markdown",
   "id": "af0e6262-499c-468b-be89-66f74f5a0d76",
   "metadata": {},
   "source": [
    "On peut aller chercher un élément de la matrice: nom[rangée, colonne]"
   ]
  },
  {
   "cell_type": "code",
   "execution_count": 25,
   "id": "b0a25431-b4e2-4327-ad34-0f8d78755958",
   "metadata": {},
   "outputs": [
    {
     "name": "stdout",
     "output_type": "stream",
     "text": [
      "[1] 4\n"
     ]
    }
   ],
   "source": [
    "print(matrix1[2,2])"
   ]
  },
  {
   "cell_type": "markdown",
   "id": "9b047b2b-c31a-4847-bb0e-ab06de3ccaeb",
   "metadata": {},
   "source": [
    "---\n",
    "## ***Data frame***\n",
    "Le *Data frame* est une importante structure de donnée pour le R.\n",
    "\n",
    "C'est le type de structure pour la plupart des données tabulées utilisées en statistique.\n",
    "\n",
    "On peut créer un data frame avec les fonctions `read.csv()` ou `read.table()` quand on importe des données.\n",
    "\n",
    "On peur créer un data frame avec la fonction `data.frame()`."
   ]
  },
  {
   "cell_type": "code",
   "execution_count": 28,
   "id": "735a1aab-992c-4689-afc8-0c7e04ff1250",
   "metadata": {},
   "outputs": [],
   "source": [
    "dat = data.frame(id = letters[1:10], x = 1:10, y = 11:20) # letters => constante."
   ]
  },
  {
   "cell_type": "code",
   "execution_count": 27,
   "id": "c730cc9f-9f47-4994-888f-cbe2b1947eb5",
   "metadata": {},
   "outputs": [
    {
     "name": "stdout",
     "output_type": "stream",
     "text": [
      "   id  x  y\n",
      "1   a  1 11\n",
      "2   b  2 12\n",
      "3   c  3 13\n",
      "4   d  4 14\n",
      "5   e  5 15\n",
      "6   f  6 16\n",
      "7   g  7 17\n",
      "8   h  8 18\n",
      "9   i  9 19\n",
      "10  j 10 20\n"
     ]
    }
   ],
   "source": [
    "print(dat)"
   ]
  },
  {
   "cell_type": "markdown",
   "id": "ba7872a5-45c8-4772-b3c1-f9c2f92e78a8",
   "metadata": {},
   "source": [
    "### Fonctions utiles pour le *data frame*.\n",
    "- `head()` - retourne les 6 premières rangées\n",
    "- `tail()` - retourne les 6 dernières rangées\n",
    "- `dim()` - retourne les dimensions du *data frame* (le nombre de rangées et de colonnes)\n",
    "- `nrow()` - retourne le nombre de rangées\n",
    "- `ncol()` - retourne le nombre de colonnes\n",
    "- `str()` - *structure of data frame* - retourne le nom et type de donnée avec un résumé de chaque colonne.\n",
    "- `summary()` - résumé avec mean, max, median sur les collonnes.\n",
    "- `names()` or `colnames()` - retourne les noms des attributs pour le *data frame*\n",
    "- `sapply(dataframe, class)` - retourne la classe de chaque colonne dans le *data frame*"
   ]
  },
  {
   "cell_type": "code",
   "execution_count": 29,
   "id": "b808858f-a7ea-4b26-88e5-9d678094285f",
   "metadata": {},
   "outputs": [
    {
     "data": {
      "text/html": [
       "<table class=\"dataframe\">\n",
       "<caption>A data.frame: 6 × 3</caption>\n",
       "<thead>\n",
       "\t<tr><th></th><th scope=col>id</th><th scope=col>x</th><th scope=col>y</th></tr>\n",
       "\t<tr><th></th><th scope=col>&lt;chr&gt;</th><th scope=col>&lt;int&gt;</th><th scope=col>&lt;int&gt;</th></tr>\n",
       "</thead>\n",
       "<tbody>\n",
       "\t<tr><th scope=row>1</th><td>a</td><td>1</td><td>11</td></tr>\n",
       "\t<tr><th scope=row>2</th><td>b</td><td>2</td><td>12</td></tr>\n",
       "\t<tr><th scope=row>3</th><td>c</td><td>3</td><td>13</td></tr>\n",
       "\t<tr><th scope=row>4</th><td>d</td><td>4</td><td>14</td></tr>\n",
       "\t<tr><th scope=row>5</th><td>e</td><td>5</td><td>15</td></tr>\n",
       "\t<tr><th scope=row>6</th><td>f</td><td>6</td><td>16</td></tr>\n",
       "</tbody>\n",
       "</table>\n"
      ],
      "text/latex": [
       "A data.frame: 6 × 3\n",
       "\\begin{tabular}{r|lll}\n",
       "  & id & x & y\\\\\n",
       "  & <chr> & <int> & <int>\\\\\n",
       "\\hline\n",
       "\t1 & a & 1 & 11\\\\\n",
       "\t2 & b & 2 & 12\\\\\n",
       "\t3 & c & 3 & 13\\\\\n",
       "\t4 & d & 4 & 14\\\\\n",
       "\t5 & e & 5 & 15\\\\\n",
       "\t6 & f & 6 & 16\\\\\n",
       "\\end{tabular}\n"
      ],
      "text/markdown": [
       "\n",
       "A data.frame: 6 × 3\n",
       "\n",
       "| <!--/--> | id &lt;chr&gt; | x &lt;int&gt; | y &lt;int&gt; |\n",
       "|---|---|---|---|\n",
       "| 1 | a | 1 | 11 |\n",
       "| 2 | b | 2 | 12 |\n",
       "| 3 | c | 3 | 13 |\n",
       "| 4 | d | 4 | 14 |\n",
       "| 5 | e | 5 | 15 |\n",
       "| 6 | f | 6 | 16 |\n",
       "\n"
      ],
      "text/plain": [
       "  id x y \n",
       "1 a  1 11\n",
       "2 b  2 12\n",
       "3 c  3 13\n",
       "4 d  4 14\n",
       "5 e  5 15\n",
       "6 f  6 16"
      ]
     },
     "metadata": {},
     "output_type": "display_data"
    }
   ],
   "source": [
    "head(dat)"
   ]
  },
  {
   "cell_type": "markdown",
   "id": "74d0f548-8435-434e-94c5-c667b85a57b1",
   "metadata": {},
   "source": [
    "---\n",
    "## En Résumé :\n",
    "\n",
    "- Expression en ligne de commande.\n",
    "- Affectation d'une valeur à une variable.\n",
    "- Convention pour les noms d'objets.\n",
    "  \n",
    "Les types de données de base sont:\n",
    "- *character*, *numeric*, *integer*, *logical*, *complex*\n",
    " Les structures de donnée sont:\n",
    "\n",
    "\n",
    "| Dimensions  | Homogène  |  Hétérogène |   \n",
    "|---|---|---|\n",
    "| 1-D\t|  atomic vector | list  |     \n",
    "|  2-D\t | matrix  | data frame |\n",
    "\n",
    "Les objets ont des attributs:\n",
    "\n",
    "-  *name*, *dimention*, *class*\n",
    "\n",
    "Certaines fonctions à se rappeler pour aller chercher de l'information sur les vecteurs ou objets: \n",
    "\n",
    "-  class() , typeof(), length(), attributes().\n",
    "\n",
    "--- "
   ]
  },
  {
   "cell_type": "code",
   "execution_count": null,
   "id": "a298c8aa-ce3d-4931-a82e-112d1fad0765",
   "metadata": {},
   "outputs": [],
   "source": []
  }
 ],
 "metadata": {
  "kernelspec": {
   "display_name": "R",
   "language": "R",
   "name": "ir"
  },
  "language_info": {
   "codemirror_mode": "r",
   "file_extension": ".r",
   "mimetype": "text/x-r-source",
   "name": "R",
   "pygments_lexer": "r",
   "version": "4.2.3"
  }
 },
 "nbformat": 4,
 "nbformat_minor": 5
}
