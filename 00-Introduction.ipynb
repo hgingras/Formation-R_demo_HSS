{
 "cells": [
  {
   "cell_type": "markdown",
   "id": "0d39746c-5194-46b7-9002-58c05ed3a912",
   "metadata": {},
   "source": [
    "![image](images/R-symbol.jpeg)\n",
    "# Introduction au language R\n",
    "- Merci au site software carpentry où une partie de la formation a été adaptée.\n",
    "\n",
    "https://datacarpentry.org/r-socialsci/\n",
    "\n",
    "https://swcarpentry.github.io/r-novice-inflammation/index.html\n",
    "\n",
    "  \n",
    "- Les notions de l'introduction proviennent notamment du livre de Vincent Goulet de l'École d’actuariat, Université Laval.\n",
    "  \n",
    "https://cran.r-project.org/doc/contrib/Goulet_introduction_programmation_R.pdf"
   ]
  },
  {
   "cell_type": "markdown",
   "id": "a7490f3a-2143-4a96-9179-7c050084a023",
   "metadata": {},
   "source": [
    "---\n",
    "## R\n",
    "\n",
    "C'est sous le langage S et Scheme que dérive le R (langage développé pour les statistiques). \n",
    "Le S a été développé au milieu des années 70 pour donner naissance par la suite dans les années 90 au R. \n",
    "\n",
    "Le R est un environnement intégré pour faciliter :\n",
    "\n",
    "- La manipulation de données,\n",
    "- La réalisation de calculs,\n",
    "- La préparation de graphiques.\n",
    "\n",
    "R est aussi un langage interdisciplinaire et extensible. \n",
    "\n",
    "- On retrouve plus de 10 000 extensions qui peuvent être utilisées pour ajouter aux fonctionnalités de base.\n",
    "- On peut ainsi accéder à différentes approches  statistiques correspondant à des disciplines scientifiques de toute sorte pour analyser vos données.\n",
    "- Par exemple, il existe des extensions pour analyser des images, des systèmes d'information géographique, la génétique des populations, etc.\n",
    "\n",
    "Non seulement R est gratuit, c'est aussi un logiciel libre. \n",
    "\n",
    "- Vous pouvez accéder au code source et participer au développement.\n",
    "\n",
    "## RStudio\n",
    "\n",
    "RStudio est un environnement de développement intégré (IDE). \n",
    "\n",
    "- On peut écrire du code.\n",
    "- Inspecter des variables que nous avons créées.\n",
    "- Visualiser des graphiques.\n",
    "- Contrôler les versions des sauvegardes.\n",
    "- Développer des extensions (packages).\n",
    "- Développer des applications.\n",
    "\n",
    "Autres avantages de RStudio\n",
    "\n",
    "- Plusieurs raccourcis de disponibles.\n",
    "- Utiliser l'autocomplétion.\n",
    "- Facilite l'écriture alors moins sujet aux erreurs.\n",
    "\n",
    "![image](images/RStudio_IDE_screenshot.png)\n",
    "https://en.wikipedia.org/wiki/RStudio"
   ]
  },
  {
   "cell_type": "markdown",
   "id": "2b52ba95-f7cb-4cf6-a58d-cff927cee99d",
   "metadata": {},
   "source": [
    "## Scénario: SAFI (Studying African Farmer-Led Irrigation)\n",
    "C'est un projet de recherche qui regarde les méthodes d'agricultures et d'irrigation. \n",
    "\n",
    "C'est un sondage qui a été effectué en en Tanzanie et au Mozambique entre novembre 2016 et juin 2017. \n",
    "\n",
    "Voici un exemple des données qui ont été recueillies au cours de l'étude: \n",
    "\n",
    "- Le matériel de construction.\n",
    "- Le nombre de personnes dans la maison.\n",
    "- Les pratiques d'agricultures et l'usage de l'eau."
   ]
  },
  {
   "cell_type": "code",
   "execution_count": null,
   "id": "55143b2c-022b-49af-a1fa-60958e6edccc",
   "metadata": {},
   "outputs": [],
   "source": [
    "dat = read.csv(file = 'data/SAFI_clean.csv', header = TRUE, stringsAsFactors = FALSE)"
   ]
  },
  {
   "cell_type": "code",
   "execution_count": null,
   "id": "5996acab-d9f3-4a29-9ba6-4ab9c67561a4",
   "metadata": {},
   "outputs": [],
   "source": [
    "head(dat)"
   ]
  },
  {
   "cell_type": "code",
   "execution_count": null,
   "id": "ec3701b8-f705-46c3-b157-de4a009e4ffe",
   "metadata": {},
   "outputs": [],
   "source": []
  }
 ],
 "metadata": {
  "kernelspec": {
   "display_name": "R",
   "language": "R",
   "name": "ir"
  },
  "language_info": {
   "codemirror_mode": "r",
   "file_extension": ".r",
   "mimetype": "text/x-r-source",
   "name": "R",
   "pygments_lexer": "r",
   "version": "4.2.3"
  }
 },
 "nbformat": 4,
 "nbformat_minor": 5
}
