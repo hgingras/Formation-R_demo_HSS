{
 "cells": [
  {
   "cell_type": "markdown",
   "id": "0d39746c-5194-46b7-9002-58c05ed3a912",
   "metadata": {},
   "source": [
    "![image](images/R-symbol.jpeg)\n",
    "# Introduction au language R\n",
    "- Merci au site software carpentry où une partie de la formation a été adaptée.\n",
    "\n",
    "https://datacarpentry.org/r-socialsci/\n",
    "\n",
    "https://swcarpentry.github.io/r-novice-inflammation/index.html\n",
    "\n",
    "  \n",
    "- Les notions de l'introduction proviennent notamment du livre de Vincent Goulet de l'École d’actuariat, Université Laval.\n",
    "  \n",
    "https://cran.r-project.org/doc/contrib/Goulet_introduction_programmation_R.pdf"
   ]
  },
  {
   "cell_type": "markdown",
   "id": "a7490f3a-2143-4a96-9179-7c050084a023",
   "metadata": {},
   "source": [
    "---\n",
    "## R\n",
    "\n",
    "C'est sous le langage S et Scheme que dérive le R (langage développé pour les statistiques). \n",
    "\n",
    "Le S a été développé au milieu des années 70 pour donner naissance par la suite dans les années 90 au R. \n",
    "\n",
    "Le R est un environnement intégré pour faciliter :\n",
    "\n",
    "- La manipulation de données,\n",
    "- La réalisation de calculs,\n",
    "- La préparation de graphiques.\n",
    "\n",
    "R est aussi un langage interdisciplinaire et extensible. \n",
    "\n",
    "- On retrouve plus de 10 000 extensions qui peuvent être utilisées pour ajouter aux fonctionnalités de base.\n",
    "- On peut ainsi accéder à différentes approches  statistiques correspondant à des disciplines scientifiques de toute sorte pour analyser vos données.\n",
    "- Par exemple, il existe des extensions pour analyser des images, des systèmes d'information géographique, la génétique des populations, etc.\n",
    "\n",
    "Non seulement R est gratuit, c'est aussi un logiciel libre. \n",
    "\n",
    "- Vous pouvez accéder au code source et participer au développement.\n",
    "\n",
    "## RStudio\n",
    "\n",
    "RStudio est un environnement de développement intégré (IDE). \n",
    "\n",
    "- On peut écrire du code.\n",
    "- Inspecter des variables que nous avons créées.\n",
    "- Visualiser des graphiques.\n",
    "- Contrôler les versions des sauvegardes.\n",
    "- Développer des extensions (packages).\n",
    "- Développer des applications.\n",
    "\n",
    "Autres avantages de RStudio\n",
    "\n",
    "- Plusieurs raccourcis de disponibles.\n",
    "- Utiliser l'autocomplétion.\n",
    "- Facilite l'écriture alors moins sujet aux erreurs.\n",
    "\n",
    "![image](images/RStudio_IDE_screenshot.png)\n",
    "https://en.wikipedia.org/wiki/RStudio"
   ]
  },
  {
   "cell_type": "markdown",
   "id": "0bebfa21-09d2-499c-a6b5-3a8cb68a5f38",
   "metadata": {},
   "source": [
    "---\n",
    "## Jupyter Notebook via JupyterLab (https://jupyter.org)\n",
    "\n",
    "- Jupyter Notebook est un environnement de programmation interactif basé sur le Web.\n",
    "- Il suit un schéma contenant une liste ordonnée de cellules d'entrée/sortie.\n",
    "- Celles-ci peuvent contenir du code, du texte (à l'aide de Markdown), des formules mathématiques, des graphiques et des médias interactifs. Ce document se termine généralement par l'extension \".ipynb\"."
   ]
  },
  {
   "cell_type": "markdown",
   "id": "c13f2bd6-f812-45a5-b749-bb2c51f94c1f",
   "metadata": {},
   "source": [
    "---\n",
    "## Comment utiliser les Jupyter Notebook:\n",
    "\n",
    "Quand une cellule est en mode `edit`:\n",
    "\n",
    "  Raccourci  | Description\n",
    "----------- | -----------\n",
    "Shift+Enter | Roule la cellule et va à la prochaine \n",
    "Tab         | Saisie semi-automatique\n",
    "Esc         | Va en mode *command*\n",
    "\n",
    "Quand une cellule est en mode `command`:\n",
    "\n",
    "  Raccourci   | Description\n",
    "------------ | -----------\n",
    "Shift+Enter  | Roule la cellule et va à la prochaine \n",
    "Double-click | Va en mode *edit*\n",
    "Enter        | Va en mode *edit*\n",
    "\n",
    "  Raccourci   | Description\n",
    "------------ | -----------\n",
    "A            | Insertion d'une cellule en haut\n",
    "B            | Insertion d'une cellule en bas\n",
    "C            | Copie la cellule actuelle\n",
    "V            | Coller la cellule en dessous\n",
    "D D          | Efface la cellule actuelle\n",
    "M            | Changement pour une cellule *Markdown*\n",
    "Y            | Changement pour une cellule *Code*"
   ]
  },
  {
   "cell_type": "markdown",
   "id": "2b52ba95-f7cb-4cf6-a58d-cff927cee99d",
   "metadata": {},
   "source": [
    "## Scénario: SAFI (Studying African Farmer-Led Irrigation)\n",
    "C'est un projet de recherche qui regarde les méthodes d'agricultures et d'irrigation. \n",
    "\n",
    "C'est un sondage qui a été effectué en en Tanzanie et au Mozambique entre novembre 2016 et juin 2017. \n",
    "\n",
    "Voici un exemple des données qui ont été recueillies au cours de l'étude: \n",
    "\n",
    "- Le matériel de construction.\n",
    "- Le nombre de personnes dans la maison.\n",
    "- Les pratiques d'agricultures et l'usage de l'eau."
   ]
  },
  {
   "cell_type": "code",
   "execution_count": 1,
   "id": "55143b2c-022b-49af-a1fa-60958e6edccc",
   "metadata": {},
   "outputs": [],
   "source": [
    "dat = read.csv(file = 'data/SAFI_clean.csv', header = TRUE, stringsAsFactors = FALSE)"
   ]
  },
  {
   "cell_type": "code",
   "execution_count": 2,
   "id": "5996acab-d9f3-4a29-9ba6-4ab9c67561a4",
   "metadata": {
    "scrolled": true
   },
   "outputs": [
    {
     "data": {
      "text/html": [
       "<table class=\"dataframe\">\n",
       "<caption>A data.frame: 6 × 14</caption>\n",
       "<thead>\n",
       "\t<tr><th></th><th scope=col>key_ID</th><th scope=col>village</th><th scope=col>interview_date</th><th scope=col>no_membrs</th><th scope=col>years_liv</th><th scope=col>respondent_wall_type</th><th scope=col>rooms</th><th scope=col>memb_assoc</th><th scope=col>affect_conflicts</th><th scope=col>liv_count</th><th scope=col>items_owned</th><th scope=col>no_meals</th><th scope=col>months_lack_food</th><th scope=col>instanceID</th></tr>\n",
       "\t<tr><th></th><th scope=col>&lt;int&gt;</th><th scope=col>&lt;chr&gt;</th><th scope=col>&lt;chr&gt;</th><th scope=col>&lt;int&gt;</th><th scope=col>&lt;int&gt;</th><th scope=col>&lt;chr&gt;</th><th scope=col>&lt;int&gt;</th><th scope=col>&lt;chr&gt;</th><th scope=col>&lt;chr&gt;</th><th scope=col>&lt;int&gt;</th><th scope=col>&lt;chr&gt;</th><th scope=col>&lt;int&gt;</th><th scope=col>&lt;chr&gt;</th><th scope=col>&lt;chr&gt;</th></tr>\n",
       "</thead>\n",
       "<tbody>\n",
       "\t<tr><th scope=row>1</th><td>1</td><td>God</td><td>2016-11-17T00:00:00Z</td><td> 3</td><td> 4</td><td>muddaub    </td><td>1</td><td>NULL</td><td>NULL</td><td>1</td><td>bicycle;television;solar_panel;table                                        </td><td>2</td><td>Jan                    </td><td>uuid:ec241f2c-0609-46ed-b5e8-fe575f6cefef</td></tr>\n",
       "\t<tr><th scope=row>2</th><td>2</td><td>God</td><td>2016-11-17T00:00:00Z</td><td> 7</td><td> 9</td><td>muddaub    </td><td>1</td><td>yes </td><td>once</td><td>3</td><td>cow_cart;bicycle;radio;cow_plough;solar_panel;solar_torch;table;mobile_phone</td><td>2</td><td>Jan;Sept;Oct;Nov;Dec   </td><td>uuid:099de9c9-3e5e-427b-8452-26250e840d6e</td></tr>\n",
       "\t<tr><th scope=row>3</th><td>3</td><td>God</td><td>2016-11-17T00:00:00Z</td><td>10</td><td>15</td><td>burntbricks</td><td>1</td><td>NULL</td><td>NULL</td><td>1</td><td>solar_torch                                                                 </td><td>2</td><td>Jan;Feb;Mar;Oct;Nov;Dec</td><td>uuid:193d7daf-9582-409b-bf09-027dd36f9007</td></tr>\n",
       "\t<tr><th scope=row>4</th><td>4</td><td>God</td><td>2016-11-17T00:00:00Z</td><td> 7</td><td> 6</td><td>burntbricks</td><td>1</td><td>NULL</td><td>NULL</td><td>2</td><td>bicycle;radio;cow_plough;solar_panel;mobile_phone                           </td><td>2</td><td>Sept;Oct;Nov;Dec       </td><td>uuid:148d1105-778a-4755-aa71-281eadd4a973</td></tr>\n",
       "\t<tr><th scope=row>5</th><td>5</td><td>God</td><td>2016-11-17T00:00:00Z</td><td> 7</td><td>40</td><td>burntbricks</td><td>1</td><td>NULL</td><td>NULL</td><td>4</td><td>motorcyle;radio;cow_plough;mobile_phone                                     </td><td>2</td><td>Aug;Sept;Oct;Nov       </td><td>uuid:2c867811-9696-4966-9866-f35c3e97d02d</td></tr>\n",
       "\t<tr><th scope=row>6</th><td>6</td><td>God</td><td>2016-11-17T00:00:00Z</td><td> 3</td><td> 3</td><td>muddaub    </td><td>1</td><td>NULL</td><td>NULL</td><td>1</td><td>NULL                                                                        </td><td>2</td><td>Aug;Sept;Oct           </td><td>uuid:daa56c91-c8e3-44c3-a663-af6a49a2ca70</td></tr>\n",
       "</tbody>\n",
       "</table>\n"
      ],
      "text/latex": [
       "A data.frame: 6 × 14\n",
       "\\begin{tabular}{r|llllllllllllll}\n",
       "  & key\\_ID & village & interview\\_date & no\\_membrs & years\\_liv & respondent\\_wall\\_type & rooms & memb\\_assoc & affect\\_conflicts & liv\\_count & items\\_owned & no\\_meals & months\\_lack\\_food & instanceID\\\\\n",
       "  & <int> & <chr> & <chr> & <int> & <int> & <chr> & <int> & <chr> & <chr> & <int> & <chr> & <int> & <chr> & <chr>\\\\\n",
       "\\hline\n",
       "\t1 & 1 & God & 2016-11-17T00:00:00Z &  3 &  4 & muddaub     & 1 & NULL & NULL & 1 & bicycle;television;solar\\_panel;table                                         & 2 & Jan                     & uuid:ec241f2c-0609-46ed-b5e8-fe575f6cefef\\\\\n",
       "\t2 & 2 & God & 2016-11-17T00:00:00Z &  7 &  9 & muddaub     & 1 & yes  & once & 3 & cow\\_cart;bicycle;radio;cow\\_plough;solar\\_panel;solar\\_torch;table;mobile\\_phone & 2 & Jan;Sept;Oct;Nov;Dec    & uuid:099de9c9-3e5e-427b-8452-26250e840d6e\\\\\n",
       "\t3 & 3 & God & 2016-11-17T00:00:00Z & 10 & 15 & burntbricks & 1 & NULL & NULL & 1 & solar\\_torch                                                                  & 2 & Jan;Feb;Mar;Oct;Nov;Dec & uuid:193d7daf-9582-409b-bf09-027dd36f9007\\\\\n",
       "\t4 & 4 & God & 2016-11-17T00:00:00Z &  7 &  6 & burntbricks & 1 & NULL & NULL & 2 & bicycle;radio;cow\\_plough;solar\\_panel;mobile\\_phone                            & 2 & Sept;Oct;Nov;Dec        & uuid:148d1105-778a-4755-aa71-281eadd4a973\\\\\n",
       "\t5 & 5 & God & 2016-11-17T00:00:00Z &  7 & 40 & burntbricks & 1 & NULL & NULL & 4 & motorcyle;radio;cow\\_plough;mobile\\_phone                                      & 2 & Aug;Sept;Oct;Nov        & uuid:2c867811-9696-4966-9866-f35c3e97d02d\\\\\n",
       "\t6 & 6 & God & 2016-11-17T00:00:00Z &  3 &  3 & muddaub     & 1 & NULL & NULL & 1 & NULL                                                                         & 2 & Aug;Sept;Oct            & uuid:daa56c91-c8e3-44c3-a663-af6a49a2ca70\\\\\n",
       "\\end{tabular}\n"
      ],
      "text/markdown": [
       "\n",
       "A data.frame: 6 × 14\n",
       "\n",
       "| <!--/--> | key_ID &lt;int&gt; | village &lt;chr&gt; | interview_date &lt;chr&gt; | no_membrs &lt;int&gt; | years_liv &lt;int&gt; | respondent_wall_type &lt;chr&gt; | rooms &lt;int&gt; | memb_assoc &lt;chr&gt; | affect_conflicts &lt;chr&gt; | liv_count &lt;int&gt; | items_owned &lt;chr&gt; | no_meals &lt;int&gt; | months_lack_food &lt;chr&gt; | instanceID &lt;chr&gt; |\n",
       "|---|---|---|---|---|---|---|---|---|---|---|---|---|---|---|\n",
       "| 1 | 1 | God | 2016-11-17T00:00:00Z |  3 |  4 | muddaub     | 1 | NULL | NULL | 1 | bicycle;television;solar_panel;table                                         | 2 | Jan                     | uuid:ec241f2c-0609-46ed-b5e8-fe575f6cefef |\n",
       "| 2 | 2 | God | 2016-11-17T00:00:00Z |  7 |  9 | muddaub     | 1 | yes  | once | 3 | cow_cart;bicycle;radio;cow_plough;solar_panel;solar_torch;table;mobile_phone | 2 | Jan;Sept;Oct;Nov;Dec    | uuid:099de9c9-3e5e-427b-8452-26250e840d6e |\n",
       "| 3 | 3 | God | 2016-11-17T00:00:00Z | 10 | 15 | burntbricks | 1 | NULL | NULL | 1 | solar_torch                                                                  | 2 | Jan;Feb;Mar;Oct;Nov;Dec | uuid:193d7daf-9582-409b-bf09-027dd36f9007 |\n",
       "| 4 | 4 | God | 2016-11-17T00:00:00Z |  7 |  6 | burntbricks | 1 | NULL | NULL | 2 | bicycle;radio;cow_plough;solar_panel;mobile_phone                            | 2 | Sept;Oct;Nov;Dec        | uuid:148d1105-778a-4755-aa71-281eadd4a973 |\n",
       "| 5 | 5 | God | 2016-11-17T00:00:00Z |  7 | 40 | burntbricks | 1 | NULL | NULL | 4 | motorcyle;radio;cow_plough;mobile_phone                                      | 2 | Aug;Sept;Oct;Nov        | uuid:2c867811-9696-4966-9866-f35c3e97d02d |\n",
       "| 6 | 6 | God | 2016-11-17T00:00:00Z |  3 |  3 | muddaub     | 1 | NULL | NULL | 1 | NULL                                                                         | 2 | Aug;Sept;Oct            | uuid:daa56c91-c8e3-44c3-a663-af6a49a2ca70 |\n",
       "\n"
      ],
      "text/plain": [
       "  key_ID village interview_date       no_membrs years_liv respondent_wall_type\n",
       "1 1      God     2016-11-17T00:00:00Z  3         4        muddaub             \n",
       "2 2      God     2016-11-17T00:00:00Z  7         9        muddaub             \n",
       "3 3      God     2016-11-17T00:00:00Z 10        15        burntbricks         \n",
       "4 4      God     2016-11-17T00:00:00Z  7         6        burntbricks         \n",
       "5 5      God     2016-11-17T00:00:00Z  7        40        burntbricks         \n",
       "6 6      God     2016-11-17T00:00:00Z  3         3        muddaub             \n",
       "  rooms memb_assoc affect_conflicts liv_count\n",
       "1 1     NULL       NULL             1        \n",
       "2 1     yes        once             3        \n",
       "3 1     NULL       NULL             1        \n",
       "4 1     NULL       NULL             2        \n",
       "5 1     NULL       NULL             4        \n",
       "6 1     NULL       NULL             1        \n",
       "  items_owned                                                                 \n",
       "1 bicycle;television;solar_panel;table                                        \n",
       "2 cow_cart;bicycle;radio;cow_plough;solar_panel;solar_torch;table;mobile_phone\n",
       "3 solar_torch                                                                 \n",
       "4 bicycle;radio;cow_plough;solar_panel;mobile_phone                           \n",
       "5 motorcyle;radio;cow_plough;mobile_phone                                     \n",
       "6 NULL                                                                        \n",
       "  no_meals months_lack_food        instanceID                               \n",
       "1 2        Jan                     uuid:ec241f2c-0609-46ed-b5e8-fe575f6cefef\n",
       "2 2        Jan;Sept;Oct;Nov;Dec    uuid:099de9c9-3e5e-427b-8452-26250e840d6e\n",
       "3 2        Jan;Feb;Mar;Oct;Nov;Dec uuid:193d7daf-9582-409b-bf09-027dd36f9007\n",
       "4 2        Sept;Oct;Nov;Dec        uuid:148d1105-778a-4755-aa71-281eadd4a973\n",
       "5 2        Aug;Sept;Oct;Nov        uuid:2c867811-9696-4966-9866-f35c3e97d02d\n",
       "6 2        Aug;Sept;Oct            uuid:daa56c91-c8e3-44c3-a663-af6a49a2ca70"
      ]
     },
     "metadata": {},
     "output_type": "display_data"
    }
   ],
   "source": [
    "head(dat)"
   ]
  },
  {
   "cell_type": "code",
   "execution_count": null,
   "id": "ec3701b8-f705-46c3-b157-de4a009e4ffe",
   "metadata": {},
   "outputs": [],
   "source": []
  }
 ],
 "metadata": {
  "kernelspec": {
   "display_name": "R",
   "language": "R",
   "name": "ir"
  },
  "language_info": {
   "codemirror_mode": "r",
   "file_extension": ".r",
   "mimetype": "text/x-r-source",
   "name": "R",
   "pygments_lexer": "r",
   "version": "4.2.3"
  }
 },
 "nbformat": 4,
 "nbformat_minor": 5
}
