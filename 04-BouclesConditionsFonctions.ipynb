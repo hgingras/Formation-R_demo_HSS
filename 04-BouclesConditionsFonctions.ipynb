{
 "cells": [
  {
   "cell_type": "markdown",
   "id": "ef09f5e5-0c95-4571-8e4e-c19e0561ac2c",
   "metadata": {},
   "source": [
    "# **Les Boucles, les conditions et les fonctions**\n",
    "---------\n",
    "\n",
    "# **Les Boucles**\n",
    "## Objectif\n",
    "- Qu'est-ce qu'une boucle *for*?\n",
    "- Qu'est-ce qu'une boucle *while*?"
   ]
  },
  {
   "cell_type": "markdown",
   "id": "a2aa5810-1a22-4440-a01d-603af9aeea2c",
   "metadata": {},
   "source": [
    "---\n",
    "Les boucles permettent la répétition d’un ensemble de commandes.\n",
    "\n",
    "En R nous avons deux formes : ***for*** et ***while***. \n",
    "\n",
    "Syntaxe de la boucle ***for***:\n",
    "\n",
    "---"
   ]
  },
  {
   "cell_type": "markdown",
   "id": "c5e01286-e725-43a3-9285-96d6c94a3256",
   "metadata": {},
   "source": [
    "```R\n",
    "for (element in vector){\n",
    "  fait_ceci()  \n",
    "}\n",
    "```"
   ]
  },
  {
   "cell_type": "markdown",
   "id": "7081cfeb-ab95-4213-8b6a-be50e7a736a7",
   "metadata": {},
   "source": [
    "---\n",
    "On peut faire notre itération sur un **intervalle**, un **vecteur**, une **liste**, une **matrice** et un ***data frame***. "
   ]
  },
  {
   "cell_type": "code",
   "execution_count": null,
   "id": "e6734640-56d3-4e37-a0ea-702b63490e11",
   "metadata": {},
   "outputs": [],
   "source": [
    "for(element in 1:10) { # intervalle 1 à 10\n",
    "  print(element)\n",
    "}"
   ]
  },
  {
   "cell_type": "code",
   "execution_count": null,
   "id": "773b44ed-c99e-439b-ba6f-c495c43e67f2",
   "metadata": {},
   "outputs": [],
   "source": [
    "mots = c(\"Voila\",\"quelques\",\"petits\",\"mots\")\n",
    "for(m in mots) {\n",
    "  print(m)\n",
    "}"
   ]
  },
  {
   "cell_type": "markdown",
   "id": "d2b4b150-8815-4687-8bfa-f145dc9797c9",
   "metadata": {},
   "source": [
    "---\n",
    "\n",
    "Pour la boucle ***while***, on va exécuter une série de tâches tant que la condition est vraie.\n",
    "Syntaxe de la boucle ***while***:\n",
    "\n",
    "---"
   ]
  },
  {
   "cell_type": "markdown",
   "id": "3a35b136-ed93-4ca8-832b-2dafce39c7be",
   "metadata": {},
   "source": [
    "```R\n",
    "while (condition) {\n",
    "\n",
    "   ce_que_je_veux_faire\n",
    "    \n",
    "   mise_à_jour_condition\n",
    "}\n",
    "```\n",
    "\n",
    "---\n"
   ]
  },
  {
   "cell_type": "code",
   "execution_count": null,
   "id": "8d6c536f-c591-4c0d-a32d-9454bf218b78",
   "metadata": {},
   "outputs": [],
   "source": [
    "i = 1\n",
    "while (i < 6) {   # condition\n",
    "  print(i)        # ce_que_je_veux_faire\n",
    "  i = i + 1       # mise_à_jour_condition\n",
    "}"
   ]
  },
  {
   "cell_type": "markdown",
   "id": "7359dded-f796-41fa-a6cc-7c13b348dfb3",
   "metadata": {},
   "source": [
    "# **Conditions**\n",
    "## Objectifs\n",
    "- Comprendre les booléens : `TRUE`et `FALSE`.\n",
    "- Utiliser les conditions `>`, `>=`, `<`, `<=` , `==` et `!=`\n",
    "- Écrire des évaluations conditionnelles avec `if`, `else`, `else if`"
   ]
  },
  {
   "cell_type": "markdown",
   "id": "a49f88e8-f19d-431a-964e-4b0036e744bf",
   "metadata": {},
   "source": [
    "La condition doit être une expression dont la valeur est `TRUE` ou `FALSE`."
   ]
  },
  {
   "cell_type": "code",
   "execution_count": null,
   "id": "0b806c1f-29f2-4d91-a8f9-2114b5b4f98b",
   "metadata": {},
   "outputs": [],
   "source": [
    "print(TRUE)"
   ]
  },
  {
   "cell_type": "code",
   "execution_count": null,
   "id": "24b1b1ee-503d-4814-9d28-985d09d087dd",
   "metadata": {},
   "outputs": [],
   "source": [
    "print(FALSE)"
   ]
  },
  {
   "cell_type": "code",
   "execution_count": null,
   "id": "f53019a3-b607-47cd-bc41-6fe19e7561e8",
   "metadata": {},
   "outputs": [],
   "source": [
    "chiffre = 50\n",
    "print(chiffre > 100)\n",
    "print(chiffre < 100)"
   ]
  },
  {
   "cell_type": "code",
   "execution_count": null,
   "id": "ffef83b1-b839-46ac-8ace-7c90d0450e9e",
   "metadata": {},
   "outputs": [],
   "source": [
    "print(1 == 1)\n",
    "print(2 != 1)\n",
    "print(1 < 0)\n",
    "print(1 > 2)\n",
    "print(1 >= 1)\n",
    "print(1 <= 2)"
   ]
  },
  {
   "cell_type": "markdown",
   "id": "1f389138-6233-40b8-b422-a9dd5e03377a",
   "metadata": {},
   "source": [
    "On va exprimer notre condition avec le mot clé `if` qui va retourner soit `TRUE` soit `FALSE`.\n",
    "\n",
    "La syntaxe en R pour un conditionnel prend la forme suivante: "
   ]
  },
  {
   "cell_type": "markdown",
   "id": "803504de-3fce-441d-850c-670381b55df2",
   "metadata": {},
   "source": [
    "---\n",
    "\n",
    "```R\n",
    "if (condition) {\n",
    "   # Action si la condition est vraie\n",
    " } else {\n",
    "   # Action si la condition est fausse\n",
    " }\n",
    "```\n",
    "\n",
    "___\n"
   ]
  },
  {
   "cell_type": "code",
   "execution_count": null,
   "id": "e056d90d-0c92-4ce4-b89d-310253eb43b1",
   "metadata": {},
   "outputs": [],
   "source": [
    "numero = 37\n",
    "if (numero > 100) {  \n",
    "  print(\"Plus grand\") \n",
    "} else {\n",
    "  print(\"Plus petit\") \n",
    "}\n",
    "print(\"Fin\")"
   ]
  },
  {
   "cell_type": "markdown",
   "id": "f988afbc-44fe-4e1b-a2fe-57d0c5aef02d",
   "metadata": {},
   "source": [
    "# **Les fonctions**\n",
    "## Objectifs \n",
    "- Définir une fonction.\n",
    "- Une fonction qui retourne une donnée.\n",
    "---"
   ]
  },
  {
   "cell_type": "markdown",
   "id": "481b3950-e867-4555-b8f7-f0a2aa13ee95",
   "metadata": {},
   "source": [
    "## Comment créer une fonction?\n",
    "- En principe, elles doivent effectuer une tâche simple et unique.\n",
    "- Les fonctions que l'on crée sont traitées par le système comme les fonctions internes.\n",
    "- On définit une nouvelle fonction avec la syntaxe suivante :"
   ]
  },
  {
   "cell_type": "markdown",
   "id": "e33449cc-04f6-46fd-8e9d-8a4865291a1a",
   "metadata": {},
   "source": [
    "---\n",
    "\n",
    "```R\n",
    "fun = function(arguments) { expression }\n",
    "```\n",
    "\n",
    "---"
   ]
  },
  {
   "cell_type": "markdown",
   "id": "d12cb5f2-f6de-49f8-9e64-46c0ef426dfa",
   "metadata": {},
   "source": [
    "## En détail:\n",
    "\n",
    "- `fun` : Nom de la fonction (même règles que le nom d'une variable).\n",
    "- `function` : Mot clé pour une fonction.\n",
    "- `arguments` : Liste des arguments séparés par des virgules.\n",
    "- `expression` : Corps de la fonction. Entre accolades. On utilise 4 espaces ou 1 tab pour l'indentation.\n",
    "  \n",
    "Ici, la fonction **`fahrenheit_a_celsius`** prend en argument une température en Fahrenheit et retourne la conversion en Celsius."
   ]
  },
  {
   "cell_type": "code",
   "execution_count": null,
   "id": "9d584045-cd18-4290-90bc-95c38446460f",
   "metadata": {},
   "outputs": [],
   "source": [
    "fahrenheit_a_celsius = function(temp_F) {\n",
    "    # Cette fonction prend en valeur une température en Fahrenheit et retourne l'équivalent en Celsius.\n",
    "    temp_C = (temp_F - 32) * 5 / 9\n",
    "    return(temp_C)\n",
    "}"
   ]
  },
  {
   "cell_type": "markdown",
   "id": "d43d5db3-c659-4bb9-8eb8-cf6028386a1c",
   "metadata": {},
   "source": [
    "On appelle la fonction comme on le ferait avec n'importe quelle fonction:"
   ]
  },
  {
   "cell_type": "code",
   "execution_count": null,
   "id": "235d36cb-90f0-4fad-a60c-9e646f010f92",
   "metadata": {},
   "outputs": [],
   "source": [
    "fahrenheit_a_celsius(212) # Point d'ébullition."
   ]
  },
  {
   "cell_type": "markdown",
   "id": "9a17469f-53fb-4fd6-bb41-81f02619799b",
   "metadata": {},
   "source": [
    "---\n",
    "## **En résumé:**\n",
    "\n",
    "## Boucles:\n",
    "\n",
    "On utilise la boucle ***for*** pour itérer sur les éléments d'une séquence. \n",
    "\n",
    "- un *intervalle*\n",
    "- un vecteur\n",
    "- une liste\n",
    "- une matrice\n",
    "- un *dataframe*\n",
    "  \n",
    "On utilise la boucle ***while*** pour itérer tant qu'une condition est vraie.\n",
    "\n",
    "## Conditions:\n",
    "\n",
    "- On utilise `if` pour débuter un test de condition, `else if` pour des tests additionnels et `else` pour la sortie par défaut.\n",
    "- Le corps de notre test de condition doit être entouré d'accolades.\n",
    "\n",
    "## Fonctions:\n",
    "\n",
    "- Important de garder notre fonction le plus simple possible.\n",
    "- Ajouter une courte description au début de la fonction.\n",
    "- On défini une fonction de cette façon : nom_de_la_fonction = function(...argument...) {...corps...}.\n",
    "- On appelle une fonction de cette façon : nom_de_la_fonction(...valeurs...)."
   ]
  },
  {
   "cell_type": "code",
   "execution_count": null,
   "id": "d0d6404a-d56d-4fda-b804-ae9179762a81",
   "metadata": {},
   "outputs": [],
   "source": []
  }
 ],
 "metadata": {
  "kernelspec": {
   "display_name": "R",
   "language": "R",
   "name": "ir"
  },
  "language_info": {
   "codemirror_mode": "r",
   "file_extension": ".r",
   "mimetype": "text/x-r-source",
   "name": "R",
   "pygments_lexer": "r",
   "version": "4.2.3"
  }
 },
 "nbformat": 4,
 "nbformat_minor": 5
}
