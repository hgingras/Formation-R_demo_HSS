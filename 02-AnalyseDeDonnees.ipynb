{
 "cells": [
  {
   "cell_type": "markdown",
   "id": "2e837f71-fc1b-466e-9172-626be9d7ef77",
   "metadata": {},
   "source": [
    "# **Analyse de données**\n",
    "Objectifs\n",
    "- Importer des données.\n",
    "- Recherche d'éléments."
   ]
  },
  {
   "cell_type": "markdown",
   "id": "4e06866e-bf9b-4d19-a50a-4554ea4df7b5",
   "metadata": {},
   "source": [
    "---\n",
    "Comment importer nos données.\n",
    "\n",
    "On va travailler avec un fichier CSV (*comma-separated values*)"
   ]
  },
  {
   "cell_type": "code",
   "execution_count": 1,
   "id": "5ca9d682-7d5b-402b-bdbb-f4a4789a20bf",
   "metadata": {},
   "outputs": [],
   "source": [
    "dat = read.csv(file = 'data/SAFI_clean.csv', header = TRUE, stringsAsFactors = FALSE)"
   ]
  },
  {
   "cell_type": "markdown",
   "id": "557546a3-6bd6-4bb7-9774-ee715ae5372a",
   "metadata": {},
   "source": [
    "Fonctions utiles pour le data frame.\n",
    "- `head()` - retourne les 6 premières rangées\n",
    "- `tail()` - retourne les 6 dernières rangées\n",
    "- `dim()` - retourne les dimensions du *data frame* (le nombre de rangées et de colonnes)\n",
    "- `nrow()` - retourne le nombre de rangées\n",
    "- `ncol()` - retourne le nombre de colonnes\n",
    "- `str()` - *structure of data frame* - retourne le nom et type de donnée avec un résumé de chaque colonne.\n",
    "- `summary()` - résumé avec mean, max, median sur les colonnes.\n",
    "- `names()` or `colnames()` - retourne les noms des attributs pour le *data frame*\n",
    "- `sapply(dataframe, class)` - retourne la classe de chaque colonne dans le *data frame*"
   ]
  },
  {
   "cell_type": "code",
   "execution_count": 2,
   "id": "08ef33cd-f80c-4d15-ad5a-eec5e6563e75",
   "metadata": {},
   "outputs": [
    {
     "name": "stdout",
     "output_type": "stream",
     "text": [
      "[1] \"data.frame\"\n"
     ]
    }
   ],
   "source": [
    "print(class(dat))"
   ]
  },
  {
   "cell_type": "code",
   "execution_count": 11,
   "id": "9540e9ff-60f9-49e3-9641-5732afa935a2",
   "metadata": {},
   "outputs": [
    {
     "name": "stdout",
     "output_type": "stream",
     "text": [
      "'data.frame':\t131 obs. of  14 variables:\n",
      " $ key_ID              : int  1 2 3 4 5 6 7 8 9 10 ...\n",
      " $ village             : chr  \"God\" \"God\" \"God\" \"God\" ...\n",
      " $ interview_date      : chr  \"2016-11-17T00:00:00Z\" \"2016-11-17T00:00:00Z\" \"2016-11-17T00:00:00Z\" \"2016-11-17T00:00:00Z\" ...\n",
      " $ no_membrs           : int  3 7 10 7 7 3 6 12 8 12 ...\n",
      " $ years_liv           : int  4 9 15 6 40 3 38 70 6 23 ...\n",
      " $ respondent_wall_type: chr  \"muddaub\" \"muddaub\" \"burntbricks\" \"burntbricks\" ...\n",
      " $ rooms               : int  1 1 1 1 1 1 1 3 1 5 ...\n",
      " $ memb_assoc          : chr  \"NULL\" \"yes\" \"NULL\" \"NULL\" ...\n",
      " $ affect_conflicts    : chr  \"NULL\" \"once\" \"NULL\" \"NULL\" ...\n",
      " $ liv_count           : int  1 3 1 2 4 1 1 2 3 2 ...\n",
      " $ items_owned         : chr  \"bicycle;television;solar_panel;table\" \"cow_cart;bicycle;radio;cow_plough;solar_panel;solar_torch;table;mobile_phone\" \"solar_torch\" \"bicycle;radio;cow_plough;solar_panel;mobile_phone\" ...\n",
      " $ no_meals            : int  2 2 2 2 2 2 3 2 3 3 ...\n",
      " $ months_lack_food    : chr  \"Jan\" \"Jan;Sept;Oct;Nov;Dec\" \"Jan;Feb;Mar;Oct;Nov;Dec\" \"Sept;Oct;Nov;Dec\" ...\n",
      " $ instanceID          : chr  \"uuid:ec241f2c-0609-46ed-b5e8-fe575f6cefef\" \"uuid:099de9c9-3e5e-427b-8452-26250e840d6e\" \"uuid:193d7daf-9582-409b-bf09-027dd36f9007\" \"uuid:148d1105-778a-4755-aa71-281eadd4a973\" ...\n",
      "NULL\n"
     ]
    }
   ],
   "source": [
    "print(str(dat))"
   ]
  },
  {
   "cell_type": "code",
   "execution_count": 3,
   "id": "2d592ad5-ec7f-4350-94fb-96f9308f12fb",
   "metadata": {},
   "outputs": [
    {
     "name": "stdout",
     "output_type": "stream",
     "text": [
      "  key_ID village       interview_date no_membrs years_liv respondent_wall_type\n",
      "1      1     God 2016-11-17T00:00:00Z         3         4              muddaub\n",
      "2      2     God 2016-11-17T00:00:00Z         7         9              muddaub\n",
      "3      3     God 2016-11-17T00:00:00Z        10        15          burntbricks\n",
      "4      4     God 2016-11-17T00:00:00Z         7         6          burntbricks\n",
      "5      5     God 2016-11-17T00:00:00Z         7        40          burntbricks\n",
      "6      6     God 2016-11-17T00:00:00Z         3         3              muddaub\n",
      "  rooms memb_assoc affect_conflicts liv_count\n",
      "1     1       NULL             NULL         1\n",
      "2     1        yes             once         3\n",
      "3     1       NULL             NULL         1\n",
      "4     1       NULL             NULL         2\n",
      "5     1       NULL             NULL         4\n",
      "6     1       NULL             NULL         1\n",
      "                                                                   items_owned\n",
      "1                                         bicycle;television;solar_panel;table\n",
      "2 cow_cart;bicycle;radio;cow_plough;solar_panel;solar_torch;table;mobile_phone\n",
      "3                                                                  solar_torch\n",
      "4                            bicycle;radio;cow_plough;solar_panel;mobile_phone\n",
      "5                                      motorcyle;radio;cow_plough;mobile_phone\n",
      "6                                                                         NULL\n",
      "  no_meals        months_lack_food                                instanceID\n",
      "1        2                     Jan uuid:ec241f2c-0609-46ed-b5e8-fe575f6cefef\n",
      "2        2    Jan;Sept;Oct;Nov;Dec uuid:099de9c9-3e5e-427b-8452-26250e840d6e\n",
      "3        2 Jan;Feb;Mar;Oct;Nov;Dec uuid:193d7daf-9582-409b-bf09-027dd36f9007\n",
      "4        2        Sept;Oct;Nov;Dec uuid:148d1105-778a-4755-aa71-281eadd4a973\n",
      "5        2        Aug;Sept;Oct;Nov uuid:2c867811-9696-4966-9866-f35c3e97d02d\n",
      "6        2            Aug;Sept;Oct uuid:daa56c91-c8e3-44c3-a663-af6a49a2ca70\n"
     ]
    }
   ],
   "source": [
    "print(head(dat))"
   ]
  },
  {
   "cell_type": "code",
   "execution_count": 4,
   "id": "c8319030-aa28-4473-9a2c-d516ea189468",
   "metadata": {},
   "outputs": [
    {
     "name": "stdout",
     "output_type": "stream",
     "text": [
      "     key_ID         village          interview_date       no_membrs     \n",
      " Min.   :  1.00   Length:131         Length:131         Min.   : 2.000  \n",
      " 1st Qu.: 33.50   Class :character   Class :character   1st Qu.: 5.000  \n",
      " Median : 66.00   Mode  :character   Mode  :character   Median : 7.000  \n",
      " Mean   : 85.73                                         Mean   : 7.191  \n",
      " 3rd Qu.:138.00                                         3rd Qu.: 9.000  \n",
      " Max.   :202.00                                         Max.   :19.000  \n"
     ]
    }
   ],
   "source": [
    "print(summary(dat[1:4]))"
   ]
  },
  {
   "cell_type": "markdown",
   "id": "b36ab6dc-2849-43c1-8085-ba36242b47a1",
   "metadata": {},
   "source": [
    "Recherche d'un élément par index (slicing)."
   ]
  },
  {
   "cell_type": "code",
   "execution_count": 6,
   "id": "c56e2d2e-598d-4ec6-b37e-59f52acc77c1",
   "metadata": {},
   "outputs": [
    {
     "name": "stdout",
     "output_type": "stream",
     "text": [
      "[1] \"God\"\n"
     ]
    }
   ],
   "source": [
    "print(dat[1, 2])"
   ]
  },
  {
   "cell_type": "markdown",
   "id": "9bdf8c8f-24ff-4e4d-a032-08abb6d4932c",
   "metadata": {},
   "source": [
    "On va chercher la colonne numéro 2."
   ]
  },
  {
   "cell_type": "code",
   "execution_count": 7,
   "id": "1cca43e8-e5a5-4cc8-91fe-f072c7f87902",
   "metadata": {},
   "outputs": [
    {
     "name": "stdout",
     "output_type": "stream",
     "text": [
      "  [1] \"God\"      \"God\"      \"God\"      \"God\"      \"God\"      \"God\"     \n",
      "  [7] \"God\"      \"Chirodzo\" \"Chirodzo\" \"Chirodzo\" \"God\"      \"God\"     \n",
      " [13] \"God\"      \"God\"      \"God\"      \"God\"      \"God\"      \"God\"     \n",
      " [19] \"God\"      \"God\"      \"God\"      \"God\"      \"Ruaca\"    \"Ruaca\"   \n",
      " [25] \"Ruaca\"    \"Ruaca\"    \"Ruaca\"    \"Ruaca\"    \"Ruaca\"    \"Ruaca\"   \n",
      " [31] \"Ruaca\"    \"Ruaca\"    \"Ruaca\"    \"Chirodzo\" \"Chirodzo\" \"Chirodzo\"\n",
      " [37] \"Chirodzo\" \"God\"      \"God\"      \"God\"      \"God\"      \"God\"     \n",
      " [43] \"Chirodzo\" \"Chirodzo\" \"Chirodzo\" \"Chirodzo\" \"Chirodzo\" \"Chirodzo\"\n",
      " [49] \"Chirodzo\" \"Chirodzo\" \"Chirodzo\" \"Chirodzo\" \"Chirodzo\" \"Chirodzo\"\n",
      " [55] \"Chirodzo\" \"Chirodzo\" \"Chirodzo\" \"Chirodzo\" \"Chirodzo\" \"Chirodzo\"\n",
      " [61] \"Chirodzo\" \"Chirodzo\" \"Chirodzo\" \"Chirodzo\" \"Chirodzo\" \"Chirodzo\"\n",
      " [67] \"Chirodzo\" \"Chirodzo\" \"Chirodzo\" \"Chirodzo\" \"Ruaca\"    \"Chirodzo\"\n",
      " [73] \"Ruaca\"    \"Ruaca\"    \"Ruaca\"    \"God\"      \"Ruaca\"    \"God\"     \n",
      " [79] \"Ruaca\"    \"God\"      \"God\"      \"God\"      \"God\"      \"God\"     \n",
      " [85] \"God\"      \"God\"      \"God\"      \"God\"      \"God\"      \"Ruaca\"   \n",
      " [91] \"Ruaca\"    \"Ruaca\"    \"Ruaca\"    \"Ruaca\"    \"God\"      \"God\"     \n",
      " [97] \"Ruaca\"    \"Ruaca\"    \"Ruaca\"    \"Ruaca\"    \"Ruaca\"    \"Ruaca\"   \n",
      "[103] \"God\"      \"God\"      \"Ruaca\"    \"Ruaca\"    \"Ruaca\"    \"Ruaca\"   \n",
      "[109] \"Ruaca\"    \"Ruaca\"    \"God\"      \"Ruaca\"    \"Ruaca\"    \"Ruaca\"   \n",
      "[115] \"Ruaca\"    \"Ruaca\"    \"God\"      \"God\"      \"Ruaca\"    \"Ruaca\"   \n",
      "[121] \"Ruaca\"    \"Ruaca\"    \"Ruaca\"    \"Ruaca\"    \"Ruaca\"    \"Chirodzo\"\n",
      "[127] \"Ruaca\"    \"Ruaca\"    \"Ruaca\"    \"Chirodzo\" \"Chirodzo\"\n"
     ]
    }
   ],
   "source": [
    "print(dat[, 2])"
   ]
  },
  {
   "cell_type": "markdown",
   "id": "b347a13e-c951-4ad0-b19a-cdd859467d9b",
   "metadata": {},
   "source": [
    "On va chercher les colonnes 6 à 9."
   ]
  },
  {
   "cell_type": "code",
   "execution_count": 8,
   "id": "828cc2d5-87df-47bb-b5c5-3baecf13618e",
   "metadata": {},
   "outputs": [
    {
     "name": "stdout",
     "output_type": "stream",
     "text": [
      "  respondent_wall_type rooms memb_assoc affect_conflicts\n",
      "1              muddaub     1       NULL             NULL\n",
      "2              muddaub     1        yes             once\n",
      "3          burntbricks     1       NULL             NULL\n",
      "4          burntbricks     1       NULL             NULL\n",
      "5          burntbricks     1       NULL             NULL\n",
      "6              muddaub     1       NULL             NULL\n"
     ]
    }
   ],
   "source": [
    "print(head(dat[, 6:9]))"
   ]
  },
  {
   "cell_type": "markdown",
   "id": "a96821fa-01b7-4eb5-a94a-6e44f2c63308",
   "metadata": {},
   "source": [
    "## **En résumé**:\n",
    "On importe nos données avec `read.csv()`."
   ]
  },
  {
   "cell_type": "markdown",
   "id": "37066b27-ddac-4cbb-abba-ec5e2d4b1c4a",
   "metadata": {},
   "source": [
    "---\n",
    "\n",
    "```R\n",
    "dat = read.csv(file = '../data/inflammation-01.csv', header = TRUE, stringsAsFactors = FALSE)\n",
    "```\n",
    "\n",
    "---"
   ]
  },
  {
   "cell_type": "markdown",
   "id": "06cf2d84-7f85-4305-961c-e38175895199",
   "metadata": {},
   "source": [
    "On peut rechercher dans un data frame en utilisant:\n",
    "\n",
    "Un index `[rangée, colonne]`:\n",
    "\n",
    "- `dat[1, 1]`\n",
    "- `dat[, 2]`\n",
    "- `dat[, 6:9]`\n",
    "\n",
    "On sélectionne avec un vecteur pour avoir des données non continues:\n",
    "\n",
    "- `dat[c(1, 5, 7, 9), 1:5]`\n",
    "\n",
    "\n",
    "On peut rechercher de l'information avec le nom de la colonne:\n",
    "\n",
    "- `colnames(dat)` ; `dat$Age`\n",
    "---"
   ]
  },
  {
   "cell_type": "code",
   "execution_count": null,
   "id": "5b0487c5-5e02-4e69-9e83-9a864f64d93e",
   "metadata": {},
   "outputs": [],
   "source": []
  }
 ],
 "metadata": {
  "kernelspec": {
   "display_name": "R",
   "language": "R",
   "name": "ir"
  },
  "language_info": {
   "codemirror_mode": "r",
   "file_extension": ".r",
   "mimetype": "text/x-r-source",
   "name": "R",
   "pygments_lexer": "r",
   "version": "4.2.3"
  }
 },
 "nbformat": 4,
 "nbformat_minor": 5
}
