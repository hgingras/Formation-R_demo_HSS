{
 "cells": [
  {
   "cell_type": "markdown",
   "id": "2e837f71-fc1b-466e-9172-626be9d7ef77",
   "metadata": {},
   "source": [
    "# **Analyse de données**\n",
    "Objectifs\n",
    "- Importer des données.\n",
    "- Recherche d'éléments."
   ]
  },
  {
   "cell_type": "markdown",
   "id": "4e06866e-bf9b-4d19-a50a-4554ea4df7b5",
   "metadata": {},
   "source": [
    "---\n",
    "Comment importer nos données?\n",
    "\n",
    "On va travailler avec un fichier CSV (*comma-separated values*)"
   ]
  },
  {
   "cell_type": "code",
   "execution_count": null,
   "id": "5ca9d682-7d5b-402b-bdbb-f4a4789a20bf",
   "metadata": {},
   "outputs": [],
   "source": [
    "dat = read.csv(file = 'data/SAFI_clean.csv', header = TRUE, stringsAsFactors = FALSE)"
   ]
  },
  {
   "cell_type": "markdown",
   "id": "557546a3-6bd6-4bb7-9774-ee715ae5372a",
   "metadata": {},
   "source": [
    "### Fonctions utiles pour le *data frame*.\n",
    "- `head()` - Retourne les 6 premières rangées.\n",
    "- `tail()` - Retourne les 6 dernières rangées.\n",
    "- `dim()` - Retourne les dimensions du *data frame* (le nombre de rangées et de colonnes).\n",
    "- `nrow()` - Retourne le nombre de rangées.\n",
    "- `ncol()` - Retourne le nombre de colonnes.\n",
    "- `str()` - Retourne le nom et type de donnée avec un résumé de chaque colonne.\n",
    "- `summary()` - Retrourne un résumé avec mean, max, median sur les collonnes.\n",
    "- `names()` or `colnames()` - Retourne les noms des attributs pour le *data frame*.\n",
    "- `sapply(dataframe, class)` - Retourne la classe de chaque colonne dans le *data frame*."
   ]
  },
  {
   "cell_type": "code",
   "execution_count": null,
   "id": "08ef33cd-f80c-4d15-ad5a-eec5e6563e75",
   "metadata": {},
   "outputs": [],
   "source": [
    "print(class(dat))"
   ]
  },
  {
   "cell_type": "code",
   "execution_count": null,
   "id": "9540e9ff-60f9-49e3-9641-5732afa935a2",
   "metadata": {},
   "outputs": [],
   "source": [
    "print(str(dat))"
   ]
  },
  {
   "cell_type": "code",
   "execution_count": null,
   "id": "2d592ad5-ec7f-4350-94fb-96f9308f12fb",
   "metadata": {},
   "outputs": [],
   "source": [
    "print(head(dat))"
   ]
  },
  {
   "cell_type": "markdown",
   "id": "a61c38d6-59a0-43ef-80e9-fd7c51507b6a",
   "metadata": {},
   "source": [
    "Pour les valeurs numériques, ont peut utiliser la fonction `summary()`."
   ]
  },
  {
   "cell_type": "code",
   "execution_count": null,
   "id": "c8319030-aa28-4473-9a2c-d516ea189468",
   "metadata": {},
   "outputs": [],
   "source": [
    "print(summary(dat[c(4,5,7,10,12)]))"
   ]
  },
  {
   "cell_type": "markdown",
   "id": "b36ab6dc-2849-43c1-8085-ba36242b47a1",
   "metadata": {},
   "source": [
    "Recherche d'un élément par index (slicing)."
   ]
  },
  {
   "cell_type": "code",
   "execution_count": null,
   "id": "c56e2d2e-598d-4ec6-b37e-59f52acc77c1",
   "metadata": {},
   "outputs": [],
   "source": [
    "print(dat[1, 2])"
   ]
  },
  {
   "cell_type": "markdown",
   "id": "9bdf8c8f-24ff-4e4d-a032-08abb6d4932c",
   "metadata": {},
   "source": [
    "On va chercher la colonne numéro 2."
   ]
  },
  {
   "cell_type": "code",
   "execution_count": null,
   "id": "1cca43e8-e5a5-4cc8-91fe-f072c7f87902",
   "metadata": {},
   "outputs": [],
   "source": [
    "print(dat[, 2])"
   ]
  },
  {
   "cell_type": "markdown",
   "id": "b347a13e-c951-4ad0-b19a-cdd859467d9b",
   "metadata": {},
   "source": [
    "On va chercher les colonnes 6 à 9."
   ]
  },
  {
   "cell_type": "code",
   "execution_count": null,
   "id": "828cc2d5-87df-47bb-b5c5-3baecf13618e",
   "metadata": {},
   "outputs": [],
   "source": [
    "print(head(dat[, 6:9]))"
   ]
  },
  {
   "cell_type": "markdown",
   "id": "a96821fa-01b7-4eb5-a94a-6e44f2c63308",
   "metadata": {},
   "source": [
    "## **En résumé**:\n",
    "On importe nos données avec `read.csv()`."
   ]
  },
  {
   "cell_type": "markdown",
   "id": "37066b27-ddac-4cbb-abba-ec5e2d4b1c4a",
   "metadata": {},
   "source": [
    "---\n",
    "\n",
    "```R\n",
    "dat = read.csv(file = '../data/inflammation-01.csv', header = TRUE, stringsAsFactors = FALSE)\n",
    "```\n",
    "\n",
    "---"
   ]
  },
  {
   "cell_type": "markdown",
   "id": "06cf2d84-7f85-4305-961c-e38175895199",
   "metadata": {},
   "source": [
    "On peut rechercher dans un *data frame* en utilisant:\n",
    "\n",
    "Un index `[rangée, colonne]`:\n",
    "\n",
    "- `dat[1, 1]`\n",
    "- `dat[, 2]`\n",
    "- `dat[, 6:9]`\n",
    "\n",
    "On sélectionne avec un vecteur pour avoir des données non continues:\n",
    "\n",
    "- `dat[c(1, 5, 7, 9), 1:5]`\n",
    "\n",
    "\n",
    "On peut rechercher de l'information avec le nom de la colonne:\n",
    "\n",
    "- `colnames(dat)` ; `dat$Age`\n",
    "---"
   ]
  },
  {
   "cell_type": "code",
   "execution_count": null,
   "id": "5b0487c5-5e02-4e69-9e83-9a864f64d93e",
   "metadata": {},
   "outputs": [],
   "source": []
  }
 ],
 "metadata": {
  "kernelspec": {
   "display_name": "R",
   "language": "R",
   "name": "ir"
  },
  "language_info": {
   "codemirror_mode": "r",
   "file_extension": ".r",
   "mimetype": "text/x-r-source",
   "name": "R",
   "pygments_lexer": "r",
   "version": "4.2.3"
  }
 },
 "nbformat": 4,
 "nbformat_minor": 5
}
